{
 "cells": [
  {
   "cell_type": "markdown",
   "metadata": {},
   "source": [
    "PROPORTIONALER FIT VON MESSDATEN\n",
    "==========================================\n",
    "In diesem notebook kann aus Messwerten, gespeichert als .txt, eine Modellfunktion (hier: Proportionalität) anhand der Methode der kleinsten Quadrate gewonnen werden. Der Code ist praktisch identisch mit dem Skript propfit.py.\n",
    "\n",
    "Als erstes muss sichergestellt werden, dass die Messdaten in einem .txt file im working directory abgespeichert sind. D.h. in dem Verzeichnis, in dem dieses notebook abgespeichert liegt.\n",
    "\n",
    "Nun werden die erforderlichen libraries und Funktionen importiert:"
   ]
  },
  {
   "cell_type": "code",
   "execution_count": 1,
   "metadata": {},
   "outputs": [],
   "source": [
    "#!/bin/python\n",
    "# Geschrieben 2/2021, Henry Korhonen henryk@ethz.ch, basierend auf Matlabskripten von Martin Willeke. Hinweise, Bemerkungen und Vorschläge bitte an henryk@ethz.ch.\n",
    "\n",
    "\n",
    "# Vorbemerkung zum Fit einer Proportionalität: Die kürzeste Variante wäre hier nicht die Standardvorgehensweise (wie unten) sondern:  y = a * x  <=>  y/x = a , d.h. \n",
    "# man benötigt nur die Mittelwerte von y und x\n",
    "\n",
    "# importieren von libraries bzw. Funktionen.\n",
    "import pandas as pd\n",
    "import numpy as np\n",
    "from scipy import stats\n",
    "from scipy.optimize import curve_fit\n",
    "from math import sqrt\n",
    "import matplotlib.pyplot as plt"
   ]
  },
  {
   "cell_type": "markdown",
   "metadata": {},
   "source": [
    "Als nächstes werden die Messdaten eingelesen. In der ersten Zeile muss sichergestellt werden, dass der Dateiname im Argument von read_table() exakt mit dem des Messwert-files übereinstimmt. Hier im Beispiel ist dies test_lin.txt. Die Messdaten müssen mit Leerschlägen getrennt werden. Alternativ kann man man den Parameter sep anpassen."
   ]
  },
  {
   "cell_type": "code",
   "execution_count": 2,
   "metadata": {},
   "outputs": [],
   "source": [
    "xy = pd.read_table('test_lin.txt', names=['x','y'], sep=r'\\s+') # Lesen der Daten, erstellen eines Dataframes. Als Separator kommt hier eine unbestimmte Anzahl Leerschläge in Frage. Andernfalls \"sep\" anpassen.\n",
    "\n",
    "y = xy['y'] # Relevante Daten aus dem Dataframe extrahieren. Achtung: \"names\" in pd.read_table gibt der ersten Spalte den Namen x und der zweiten y. Unbedingt sicherstellen, dass die richtigen Daten extrahiert werden!\n",
    "x = xy['x']\n",
    "\n",
    "N = len(y) # Anzahl Datenpunkte ermitteln."
   ]
  },
  {
   "cell_type": "markdown",
   "metadata": {},
   "source": [
    "Optional: Mit dem nächsten Stück code kann überprüft werden, ob die Daten richtig eingelesen wurden:"
   ]
  },
  {
   "cell_type": "code",
   "execution_count": 3,
   "metadata": {},
   "outputs": [
    {
     "name": "stdout",
     "output_type": "stream",
     "text": [
      "x: 0     1.0\n",
      "1     2.0\n",
      "2     3.0\n",
      "3     4.0\n",
      "4     5.0\n",
      "5     6.0\n",
      "6     7.0\n",
      "7     8.0\n",
      "8     9.0\n",
      "9    10.0\n",
      "Name: x, dtype: float64\n",
      "y: 0     18.4\n",
      "1     28.9\n",
      "2     35.5\n",
      "3     55.1\n",
      "4     59.0\n",
      "5     72.1\n",
      "6     78.0\n",
      "7     87.0\n",
      "8     99.0\n",
      "9    111.0\n",
      "Name: y, dtype: float64\n"
     ]
    }
   ],
   "source": [
    "print('x: {0}\\ny: {1}'.format(x, y))"
   ]
  },
  {
   "cell_type": "markdown",
   "metadata": {},
   "source": [
    "Nun will eine Funktion definiert werden. Hier wird eine Proportionalität gefittet."
   ]
  },
  {
   "cell_type": "code",
   "execution_count": 4,
   "metadata": {},
   "outputs": [],
   "source": [
    "def func(x, a): # Funktion definieren, die gefittet werden soll. Hier wird mit einer Polynomfunktion ersten Grades gearbeitet. Bei mehr Variablen muss das Argument (das in Klammern) sinngemäß ergänzt werden.\n",
    "\n",
    "    return a*x"
   ]
  },
  {
   "cell_type": "markdown",
   "metadata": {},
   "source": [
    "Im nächsten Schritt passiert die Ausgleichsrechnung. popt wird den Regressionskoeffizienten a enthalten, pcov enthält die Varianz des Regressionskoeffizienten und deren Quadratwurzel ist die dazugehörige Standardabweichung.\n",
    "\n",
    "Optional: Die Auskommentierte Zeile tut das gleiche wie die erste, jedoch kann man dort einen Bereich angeben, in dem man den Koeffizienten vermutet. (a würde zwischen alower und aupper vermutet werden)"
   ]
  },
  {
   "cell_type": "code",
   "execution_count": 5,
   "metadata": {},
   "outputs": [],
   "source": [
    "popt, pcov = curve_fit(func, x, y) # fitten der Daten\n",
    "# popt, pcov = curve_fit(func, x, y, bounds=([alower], [aupper])) # fitten der Daten mit Eingrenzung des Regressionskoeffizienten\n",
    "pstd = np.sqrt(np.diag(pcov)) # Standardabweichung des Regressionskoeffizienten. Nota bene: in pcov steht die Varianz der Regressionskoeffizienten."
   ]
  },
  {
   "cell_type": "markdown",
   "metadata": {},
   "source": [
    "Das m%-Vertrauensintervall lässt sich gemütlich in vier Zeilen berechnen. m muss in diesem Fall hardcoded sein, also durch alpha definiert werden: m = 100*(1-alpha). p wird ermittelt, um sogleich automatisch die Anzahl Freiheitsgrade korrekt zu berechnen (dof), mit welchen der korrekte Student-T-Faktor ermittelt werden kann (t.ppf())."
   ]
  },
  {
   "cell_type": "code",
   "execution_count": 6,
   "metadata": {},
   "outputs": [],
   "source": [
    "# Vertrauensintervall berechnen\n",
    "alpha = 0.05 # m%-Vertrauensintervall: m = 100*(1-alpha)\n",
    "p = len(popt)\n",
    "dof = max(0,N-p) # Anzahl Freiheitsgrade (nota bene: das hängt von der Anzahl Regressionskoeffizienten in der Fitfunktion ab (siehe def func(...) oben)\n",
    "tinv = stats.t.ppf(1.0-alpha/2., dof) # Student-T-Faktor ermitteln"
   ]
  },
  {
   "cell_type": "markdown",
   "metadata": {},
   "source": [
    "Nun ist alles berechnet und die Ausgabe der Daten kann beginnen. Die ersten vier Zeilen listen sämtliche Regressionskoeffizienten mit ihrem jeweiligen m%-Vertrauensintervall und der jeweiligen Standardabweichung sowie die Anzahl Messungen und Freiheitsgrade auf.\n",
    "\n",
    "Danach werden die Daten und die gefittete lineare Funktion zusammen geplottet. Dieser Plot wird noch nicht gezeigt, dies passiert erst ganz unten. Ebenfalls wird eine PNG-Datei sowie eine PDF-Datei davon erstellt. Für den Bericht ist die PDF-Datei am interessantesten, da sie Vektor- und keine Rastergrafik enthält. Der Dateiname sollte jeweils noch direkt im Skript unten im Argument von plt.savefig angepasst werden.\n",
    "\n",
    "Et voilà."
   ]
  },
  {
   "cell_type": "code",
   "execution_count": 7,
   "metadata": {},
   "outputs": [
    {
     "name": "stdout",
     "output_type": "stream",
     "text": [
      "Anzahl Freiheitsgrade: 9\n",
      "Anzahl Messungen: 10\n",
      "==================================\n",
      "Parameter a: 11.360259741211744 \n",
      " Vertrauensintervall: [10.767299887698414  11.953219594725073]\n",
      " Standardabweichung: 0.26212142254292264\n",
      "==================================\n"
     ]
    },
    {
     "data": {
      "image/png": "[encoded data removed]",
      "text/plain": [
       "<Figure size 432x288 with 1 Axes>"
      ]
     },
     "metadata": {
      "needs_background": "light"
     },
     "output_type": "display_data"
    }
   ],
   "source": [
    "print('Anzahl Freiheitsgrade: {0}\\nAnzahl Messungen: {1}\\n=================================='.format(dof, N))\n",
    "for i, regkoeff,var in zip(range(N), popt, np.diag(pcov)): # Hier werden alle Regressionskoeffizienten mit den entsprechenden Vertrauensintervallen ausgegeben.\n",
    "    sigma = var**0.5\n",
    "    print('Parameter {0}: {1} \\n Vertrauensintervall: [{2}  {3}]\\n Standardabweichung: {4}\\n=================================='.format(\"a\", regkoeff, regkoeff - sigma*tinv, regkoeff + sigma*tinv, sigma))\n",
    "\n",
    "\n",
    "\n",
    "plt.plot(x,y,'b.',label='data') # Daten plotten\n",
    "plt.plot(x, func(x, popt), 'r-', label='fit: a=%5.3f' % tuple(popt)) # Gefittete Funktion plotten. \n",
    "\n",
    "plt.grid(linestyle=':') # grid zeichnen\n",
    "plt.xlabel('x') # labels setzen\n",
    "plt.ylabel('y')\n",
    "plt.legend() # Legende generieren\n",
    "\n",
    "plt.savefig(\"dateiname.pdf\") # Plot als PDF-Datei speichern.\n",
    "plt.savefig(\"dateiname.png\") # Plot als PNG-Datei speichern.\n",
    "\n",
    "plt.show() # Plot anzeigen"
   ]
  }
 ],
 "metadata": {
  "kernelspec": {
   "display_name": "Python 3 (ipykernel)",
   "language": "python",
   "name": "python3"
  },
  "language_info": {
   "codemirror_mode": {
    "name": "ipython",
    "version": 3
   },
   "file_extension": ".py",
   "mimetype": "text/x-python",
   "name": "python",
   "nbconvert_exporter": "python",
   "pygments_lexer": "ipython3",
   "version": "3.10.4"
  }
 },
 "nbformat": 4,
 "nbformat_minor": 4
}
